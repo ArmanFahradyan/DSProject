{
  "nbformat": 4,
  "nbformat_minor": 0,
  "metadata": {
    "colab": {
      "provenance": []
    },
    "kernelspec": {
      "name": "python3",
      "display_name": "Python 3"
    },
    "language_info": {
      "name": "python"
    }
  },
  "cells": [
    {
      "cell_type": "code",
      "execution_count": 70,
      "metadata": {
        "colab": {
          "base_uri": "https://localhost:8080/"
        },
        "id": "syfnOia5EaXP",
        "outputId": "2f710aac-3d35-4887-ccb4-7d3e0085166f"
      },
      "outputs": [
        {
          "output_type": "stream",
          "name": "stdout",
          "text": [
            "Scraping https://en.wikipedia.org/wiki/1992%E2%80%9393_FA_Premier_League...\n"
          ]
        },
        {
          "output_type": "stream",
          "name": "stderr",
          "text": [
            "<ipython-input-70-dad1f1e8ffdd>:60: FutureWarning: errors='ignore' is deprecated and will raise in a future version. Use to_numeric without passing `errors` and catch exceptions explicitly instead\n",
            "  df[col] = pd.to_numeric(df[col], errors=\"ignore\", downcast=\"integer\")\n"
          ]
        },
        {
          "output_type": "stream",
          "name": "stdout",
          "text": [
            "Scraped data for 1992–93.\n",
            "Scraping https://en.wikipedia.org/wiki/1993%E2%80%9394_FA_Premier_League...\n"
          ]
        },
        {
          "output_type": "stream",
          "name": "stderr",
          "text": [
            "<ipython-input-70-dad1f1e8ffdd>:60: FutureWarning: errors='ignore' is deprecated and will raise in a future version. Use to_numeric without passing `errors` and catch exceptions explicitly instead\n",
            "  df[col] = pd.to_numeric(df[col], errors=\"ignore\", downcast=\"integer\")\n"
          ]
        },
        {
          "output_type": "stream",
          "name": "stdout",
          "text": [
            "Scraped data for 1993–94.\n",
            "Scraping https://en.wikipedia.org/wiki/1994%E2%80%9395_FA_Premier_League...\n"
          ]
        },
        {
          "output_type": "stream",
          "name": "stderr",
          "text": [
            "<ipython-input-70-dad1f1e8ffdd>:60: FutureWarning: errors='ignore' is deprecated and will raise in a future version. Use to_numeric without passing `errors` and catch exceptions explicitly instead\n",
            "  df[col] = pd.to_numeric(df[col], errors=\"ignore\", downcast=\"integer\")\n"
          ]
        },
        {
          "output_type": "stream",
          "name": "stdout",
          "text": [
            "Scraped data for 1994–95.\n",
            "Scraping https://en.wikipedia.org/wiki/1995%E2%80%9396_FA_Premier_League...\n"
          ]
        },
        {
          "output_type": "stream",
          "name": "stderr",
          "text": [
            "<ipython-input-70-dad1f1e8ffdd>:60: FutureWarning: errors='ignore' is deprecated and will raise in a future version. Use to_numeric without passing `errors` and catch exceptions explicitly instead\n",
            "  df[col] = pd.to_numeric(df[col], errors=\"ignore\", downcast=\"integer\")\n"
          ]
        },
        {
          "output_type": "stream",
          "name": "stdout",
          "text": [
            "Scraped data for 1995–96.\n",
            "Scraping https://en.wikipedia.org/wiki/1996%E2%80%9397_FA_Premier_League...\n"
          ]
        },
        {
          "output_type": "stream",
          "name": "stderr",
          "text": [
            "<ipython-input-70-dad1f1e8ffdd>:60: FutureWarning: errors='ignore' is deprecated and will raise in a future version. Use to_numeric without passing `errors` and catch exceptions explicitly instead\n",
            "  df[col] = pd.to_numeric(df[col], errors=\"ignore\", downcast=\"integer\")\n"
          ]
        },
        {
          "output_type": "stream",
          "name": "stdout",
          "text": [
            "Scraped data for 1996–97.\n",
            "Scraping https://en.wikipedia.org/wiki/1997%E2%80%9398_FA_Premier_League...\n"
          ]
        },
        {
          "output_type": "stream",
          "name": "stderr",
          "text": [
            "<ipython-input-70-dad1f1e8ffdd>:60: FutureWarning: errors='ignore' is deprecated and will raise in a future version. Use to_numeric without passing `errors` and catch exceptions explicitly instead\n",
            "  df[col] = pd.to_numeric(df[col], errors=\"ignore\", downcast=\"integer\")\n"
          ]
        },
        {
          "output_type": "stream",
          "name": "stdout",
          "text": [
            "Scraped data for 1997–98.\n",
            "Scraping https://en.wikipedia.org/wiki/1998%E2%80%9399_FA_Premier_League...\n"
          ]
        },
        {
          "output_type": "stream",
          "name": "stderr",
          "text": [
            "<ipython-input-70-dad1f1e8ffdd>:60: FutureWarning: errors='ignore' is deprecated and will raise in a future version. Use to_numeric without passing `errors` and catch exceptions explicitly instead\n",
            "  df[col] = pd.to_numeric(df[col], errors=\"ignore\", downcast=\"integer\")\n"
          ]
        },
        {
          "output_type": "stream",
          "name": "stdout",
          "text": [
            "Scraped data for 1998–99.\n",
            "Scraping https://en.wikipedia.org/wiki/1999%E2%80%9300_FA_Premier_League...\n"
          ]
        },
        {
          "output_type": "stream",
          "name": "stderr",
          "text": [
            "<ipython-input-70-dad1f1e8ffdd>:60: FutureWarning: errors='ignore' is deprecated and will raise in a future version. Use to_numeric without passing `errors` and catch exceptions explicitly instead\n",
            "  df[col] = pd.to_numeric(df[col], errors=\"ignore\", downcast=\"integer\")\n"
          ]
        },
        {
          "output_type": "stream",
          "name": "stdout",
          "text": [
            "Scraped data for 1999–2000.\n",
            "Scraping https://en.wikipedia.org/wiki/2000%E2%80%9301_Premier_League...\n"
          ]
        },
        {
          "output_type": "stream",
          "name": "stderr",
          "text": [
            "<ipython-input-70-dad1f1e8ffdd>:60: FutureWarning: errors='ignore' is deprecated and will raise in a future version. Use to_numeric without passing `errors` and catch exceptions explicitly instead\n",
            "  df[col] = pd.to_numeric(df[col], errors=\"ignore\", downcast=\"integer\")\n"
          ]
        },
        {
          "output_type": "stream",
          "name": "stdout",
          "text": [
            "Scraped data for 2000–01.\n",
            "Scraping https://en.wikipedia.org/wiki/2001%E2%80%9302_Premier_League...\n"
          ]
        },
        {
          "output_type": "stream",
          "name": "stderr",
          "text": [
            "<ipython-input-70-dad1f1e8ffdd>:60: FutureWarning: errors='ignore' is deprecated and will raise in a future version. Use to_numeric without passing `errors` and catch exceptions explicitly instead\n",
            "  df[col] = pd.to_numeric(df[col], errors=\"ignore\", downcast=\"integer\")\n"
          ]
        },
        {
          "output_type": "stream",
          "name": "stdout",
          "text": [
            "Scraped data for 2001–02.\n",
            "Scraping https://en.wikipedia.org/wiki/2002%E2%80%9303_Premier_League...\n"
          ]
        },
        {
          "output_type": "stream",
          "name": "stderr",
          "text": [
            "<ipython-input-70-dad1f1e8ffdd>:60: FutureWarning: errors='ignore' is deprecated and will raise in a future version. Use to_numeric without passing `errors` and catch exceptions explicitly instead\n",
            "  df[col] = pd.to_numeric(df[col], errors=\"ignore\", downcast=\"integer\")\n"
          ]
        },
        {
          "output_type": "stream",
          "name": "stdout",
          "text": [
            "Scraped data for 2002–03.\n",
            "Scraping https://en.wikipedia.org/wiki/2003%E2%80%9304_Premier_League...\n"
          ]
        },
        {
          "output_type": "stream",
          "name": "stderr",
          "text": [
            "<ipython-input-70-dad1f1e8ffdd>:60: FutureWarning: errors='ignore' is deprecated and will raise in a future version. Use to_numeric without passing `errors` and catch exceptions explicitly instead\n",
            "  df[col] = pd.to_numeric(df[col], errors=\"ignore\", downcast=\"integer\")\n"
          ]
        },
        {
          "output_type": "stream",
          "name": "stdout",
          "text": [
            "Scraped data for 2003–04.\n",
            "Scraping https://en.wikipedia.org/wiki/2004%E2%80%9305_Premier_League...\n"
          ]
        },
        {
          "output_type": "stream",
          "name": "stderr",
          "text": [
            "<ipython-input-70-dad1f1e8ffdd>:60: FutureWarning: errors='ignore' is deprecated and will raise in a future version. Use to_numeric without passing `errors` and catch exceptions explicitly instead\n",
            "  df[col] = pd.to_numeric(df[col], errors=\"ignore\", downcast=\"integer\")\n"
          ]
        },
        {
          "output_type": "stream",
          "name": "stdout",
          "text": [
            "Scraped data for 2004–05.\n",
            "Scraping https://en.wikipedia.org/wiki/2005%E2%80%9306_Premier_League...\n"
          ]
        },
        {
          "output_type": "stream",
          "name": "stderr",
          "text": [
            "<ipython-input-70-dad1f1e8ffdd>:60: FutureWarning: errors='ignore' is deprecated and will raise in a future version. Use to_numeric without passing `errors` and catch exceptions explicitly instead\n",
            "  df[col] = pd.to_numeric(df[col], errors=\"ignore\", downcast=\"integer\")\n"
          ]
        },
        {
          "output_type": "stream",
          "name": "stdout",
          "text": [
            "Scraped data for 2005–06.\n",
            "Scraping https://en.wikipedia.org/wiki/2006%E2%80%9307_Premier_League...\n"
          ]
        },
        {
          "output_type": "stream",
          "name": "stderr",
          "text": [
            "<ipython-input-70-dad1f1e8ffdd>:60: FutureWarning: errors='ignore' is deprecated and will raise in a future version. Use to_numeric without passing `errors` and catch exceptions explicitly instead\n",
            "  df[col] = pd.to_numeric(df[col], errors=\"ignore\", downcast=\"integer\")\n"
          ]
        },
        {
          "output_type": "stream",
          "name": "stdout",
          "text": [
            "Scraped data for 2006–07.\n",
            "Scraping https://en.wikipedia.org/wiki/2007%E2%80%9308_Premier_League...\n"
          ]
        },
        {
          "output_type": "stream",
          "name": "stderr",
          "text": [
            "<ipython-input-70-dad1f1e8ffdd>:60: FutureWarning: errors='ignore' is deprecated and will raise in a future version. Use to_numeric without passing `errors` and catch exceptions explicitly instead\n",
            "  df[col] = pd.to_numeric(df[col], errors=\"ignore\", downcast=\"integer\")\n"
          ]
        },
        {
          "output_type": "stream",
          "name": "stdout",
          "text": [
            "Scraped data for 2007–08.\n",
            "Scraping https://en.wikipedia.org/wiki/2008%E2%80%9309_Premier_League...\n"
          ]
        },
        {
          "output_type": "stream",
          "name": "stderr",
          "text": [
            "<ipython-input-70-dad1f1e8ffdd>:60: FutureWarning: errors='ignore' is deprecated and will raise in a future version. Use to_numeric without passing `errors` and catch exceptions explicitly instead\n",
            "  df[col] = pd.to_numeric(df[col], errors=\"ignore\", downcast=\"integer\")\n"
          ]
        },
        {
          "output_type": "stream",
          "name": "stdout",
          "text": [
            "Scraped data for 2008–09.\n",
            "Scraping https://en.wikipedia.org/wiki/2009%E2%80%9310_Premier_League...\n"
          ]
        },
        {
          "output_type": "stream",
          "name": "stderr",
          "text": [
            "<ipython-input-70-dad1f1e8ffdd>:60: FutureWarning: errors='ignore' is deprecated and will raise in a future version. Use to_numeric without passing `errors` and catch exceptions explicitly instead\n",
            "  df[col] = pd.to_numeric(df[col], errors=\"ignore\", downcast=\"integer\")\n"
          ]
        },
        {
          "output_type": "stream",
          "name": "stdout",
          "text": [
            "Scraped data for 2009–10.\n",
            "Scraping https://en.wikipedia.org/wiki/2010%E2%80%9311_Premier_League...\n"
          ]
        },
        {
          "output_type": "stream",
          "name": "stderr",
          "text": [
            "<ipython-input-70-dad1f1e8ffdd>:60: FutureWarning: errors='ignore' is deprecated and will raise in a future version. Use to_numeric without passing `errors` and catch exceptions explicitly instead\n",
            "  df[col] = pd.to_numeric(df[col], errors=\"ignore\", downcast=\"integer\")\n"
          ]
        },
        {
          "output_type": "stream",
          "name": "stdout",
          "text": [
            "Scraped data for 2010–11.\n",
            "Scraping https://en.wikipedia.org/wiki/2011%E2%80%9312_Premier_League...\n"
          ]
        },
        {
          "output_type": "stream",
          "name": "stderr",
          "text": [
            "<ipython-input-70-dad1f1e8ffdd>:60: FutureWarning: errors='ignore' is deprecated and will raise in a future version. Use to_numeric without passing `errors` and catch exceptions explicitly instead\n",
            "  df[col] = pd.to_numeric(df[col], errors=\"ignore\", downcast=\"integer\")\n"
          ]
        },
        {
          "output_type": "stream",
          "name": "stdout",
          "text": [
            "Scraped data for 2011–12.\n",
            "Scraping https://en.wikipedia.org/wiki/2012%E2%80%9313_Premier_League...\n"
          ]
        },
        {
          "output_type": "stream",
          "name": "stderr",
          "text": [
            "<ipython-input-70-dad1f1e8ffdd>:60: FutureWarning: errors='ignore' is deprecated and will raise in a future version. Use to_numeric without passing `errors` and catch exceptions explicitly instead\n",
            "  df[col] = pd.to_numeric(df[col], errors=\"ignore\", downcast=\"integer\")\n"
          ]
        },
        {
          "output_type": "stream",
          "name": "stdout",
          "text": [
            "Scraped data for 2012–13.\n",
            "Scraping https://en.wikipedia.org/wiki/2013%E2%80%9314_Premier_League...\n"
          ]
        },
        {
          "output_type": "stream",
          "name": "stderr",
          "text": [
            "<ipython-input-70-dad1f1e8ffdd>:60: FutureWarning: errors='ignore' is deprecated and will raise in a future version. Use to_numeric without passing `errors` and catch exceptions explicitly instead\n",
            "  df[col] = pd.to_numeric(df[col], errors=\"ignore\", downcast=\"integer\")\n"
          ]
        },
        {
          "output_type": "stream",
          "name": "stdout",
          "text": [
            "Scraped data for 2013–14.\n",
            "Scraping https://en.wikipedia.org/wiki/2014%E2%80%9315_Premier_League...\n"
          ]
        },
        {
          "output_type": "stream",
          "name": "stderr",
          "text": [
            "<ipython-input-70-dad1f1e8ffdd>:60: FutureWarning: errors='ignore' is deprecated and will raise in a future version. Use to_numeric without passing `errors` and catch exceptions explicitly instead\n",
            "  df[col] = pd.to_numeric(df[col], errors=\"ignore\", downcast=\"integer\")\n"
          ]
        },
        {
          "output_type": "stream",
          "name": "stdout",
          "text": [
            "Scraped data for 2014–15.\n",
            "Scraping https://en.wikipedia.org/wiki/2015%E2%80%9316_Premier_League...\n"
          ]
        },
        {
          "output_type": "stream",
          "name": "stderr",
          "text": [
            "<ipython-input-70-dad1f1e8ffdd>:60: FutureWarning: errors='ignore' is deprecated and will raise in a future version. Use to_numeric without passing `errors` and catch exceptions explicitly instead\n",
            "  df[col] = pd.to_numeric(df[col], errors=\"ignore\", downcast=\"integer\")\n"
          ]
        },
        {
          "output_type": "stream",
          "name": "stdout",
          "text": [
            "Scraped data for 2015–16.\n",
            "Scraping https://en.wikipedia.org/wiki/2016%E2%80%9317_Premier_League...\n"
          ]
        },
        {
          "output_type": "stream",
          "name": "stderr",
          "text": [
            "<ipython-input-70-dad1f1e8ffdd>:60: FutureWarning: errors='ignore' is deprecated and will raise in a future version. Use to_numeric without passing `errors` and catch exceptions explicitly instead\n",
            "  df[col] = pd.to_numeric(df[col], errors=\"ignore\", downcast=\"integer\")\n"
          ]
        },
        {
          "output_type": "stream",
          "name": "stdout",
          "text": [
            "Scraped data for 2016–17.\n",
            "Scraping https://en.wikipedia.org/wiki/2017%E2%80%9318_Premier_League...\n"
          ]
        },
        {
          "output_type": "stream",
          "name": "stderr",
          "text": [
            "<ipython-input-70-dad1f1e8ffdd>:60: FutureWarning: errors='ignore' is deprecated and will raise in a future version. Use to_numeric without passing `errors` and catch exceptions explicitly instead\n",
            "  df[col] = pd.to_numeric(df[col], errors=\"ignore\", downcast=\"integer\")\n"
          ]
        },
        {
          "output_type": "stream",
          "name": "stdout",
          "text": [
            "Scraped data for 2017–18.\n",
            "Scraping https://en.wikipedia.org/wiki/2018%E2%80%9319_Premier_League...\n"
          ]
        },
        {
          "output_type": "stream",
          "name": "stderr",
          "text": [
            "<ipython-input-70-dad1f1e8ffdd>:60: FutureWarning: errors='ignore' is deprecated and will raise in a future version. Use to_numeric without passing `errors` and catch exceptions explicitly instead\n",
            "  df[col] = pd.to_numeric(df[col], errors=\"ignore\", downcast=\"integer\")\n"
          ]
        },
        {
          "output_type": "stream",
          "name": "stdout",
          "text": [
            "Scraped data for 2018–19.\n",
            "Scraping https://en.wikipedia.org/wiki/2019%E2%80%9320_Premier_League...\n"
          ]
        },
        {
          "output_type": "stream",
          "name": "stderr",
          "text": [
            "<ipython-input-70-dad1f1e8ffdd>:60: FutureWarning: errors='ignore' is deprecated and will raise in a future version. Use to_numeric without passing `errors` and catch exceptions explicitly instead\n",
            "  df[col] = pd.to_numeric(df[col], errors=\"ignore\", downcast=\"integer\")\n"
          ]
        },
        {
          "output_type": "stream",
          "name": "stdout",
          "text": [
            "Scraped data for 2019–20.\n",
            "Scraping https://en.wikipedia.org/wiki/2020%E2%80%9321_Premier_League...\n"
          ]
        },
        {
          "output_type": "stream",
          "name": "stderr",
          "text": [
            "<ipython-input-70-dad1f1e8ffdd>:60: FutureWarning: errors='ignore' is deprecated and will raise in a future version. Use to_numeric without passing `errors` and catch exceptions explicitly instead\n",
            "  df[col] = pd.to_numeric(df[col], errors=\"ignore\", downcast=\"integer\")\n"
          ]
        },
        {
          "output_type": "stream",
          "name": "stdout",
          "text": [
            "Scraped data for 2020–21.\n",
            "Scraping https://en.wikipedia.org/wiki/2021%E2%80%9322_Premier_League...\n"
          ]
        },
        {
          "output_type": "stream",
          "name": "stderr",
          "text": [
            "<ipython-input-70-dad1f1e8ffdd>:60: FutureWarning: errors='ignore' is deprecated and will raise in a future version. Use to_numeric without passing `errors` and catch exceptions explicitly instead\n",
            "  df[col] = pd.to_numeric(df[col], errors=\"ignore\", downcast=\"integer\")\n"
          ]
        },
        {
          "output_type": "stream",
          "name": "stdout",
          "text": [
            "Scraped data for 2021–22.\n",
            "Scraping https://en.wikipedia.org/wiki/2022%E2%80%9323_Premier_League...\n"
          ]
        },
        {
          "output_type": "stream",
          "name": "stderr",
          "text": [
            "<ipython-input-70-dad1f1e8ffdd>:60: FutureWarning: errors='ignore' is deprecated and will raise in a future version. Use to_numeric without passing `errors` and catch exceptions explicitly instead\n",
            "  df[col] = pd.to_numeric(df[col], errors=\"ignore\", downcast=\"integer\")\n"
          ]
        },
        {
          "output_type": "stream",
          "name": "stdout",
          "text": [
            "Scraped data for 2022–23.\n",
            "Scraping https://en.wikipedia.org/wiki/2023%E2%80%9324_Premier_League...\n",
            "Scraped data for 2023–24.\n",
            "Scraping completed.\n"
          ]
        },
        {
          "output_type": "stream",
          "name": "stderr",
          "text": [
            "<ipython-input-70-dad1f1e8ffdd>:60: FutureWarning: errors='ignore' is deprecated and will raise in a future version. Use to_numeric without passing `errors` and catch exceptions explicitly instead\n",
            "  df[col] = pd.to_numeric(df[col], errors=\"ignore\", downcast=\"integer\")\n"
          ]
        }
      ],
      "source": [
        "import requests\n",
        "from bs4 import BeautifulSoup\n",
        "import pandas as pd\n",
        "import re\n",
        "\n",
        "# Base URL for Wikipedia pages\n",
        "base_url = \"https://en.wikipedia.org/wiki/\"\n",
        "\n",
        "# Starting year for the first season\n",
        "start_year = 1992\n",
        "end_year = 2024  # Last season's starting year\n",
        "\n",
        "# List to store all seasons' data\n",
        "all_seasons_data = []\n",
        "\n",
        "# Function to scrape a single season's league table\n",
        "def scrape_league_table(url):\n",
        "    response = requests.get(url)\n",
        "    soup = BeautifulSoup(response.content, \"html.parser\")\n",
        "\n",
        "    # Find the <h2> header containing \"League table\"\n",
        "    headers = soup.find_all(\"h2\")\n",
        "    target_table = None\n",
        "    for header in headers:\n",
        "        if \"League table\" in header.get_text():\n",
        "            # Locate the next table after the <h2> header\n",
        "            target_table = header.find_next(\"table\", {\"class\": \"wikitable\"})\n",
        "            break\n",
        "\n",
        "    if target_table:\n",
        "        # Extract table rows\n",
        "        rows = target_table.find_all(\"tr\")\n",
        "\n",
        "        # Parse the table content\n",
        "        data = []\n",
        "        for row in rows:\n",
        "            cells = row.find_all([\"th\", \"td\"])  # Extract both header and data cells\n",
        "            cell_text = [cell.get_text(strip=True) for cell in cells]\n",
        "            # Remove (C) and (R) from team names\n",
        "            if cell_text and len(cell_text) > 1:  # Ensure row has enough data\n",
        "                cell_text[1] = cell_text[1].replace(\"(C)\", \"\").replace(\"(R)\", \"\").strip()\n",
        "                cell_text[1] = re.sub(r\"\\[.*?\\]\", \"\", cell_text[1]).strip()\n",
        "                cell_text[1] = cell_text[1].replace(\"vte\", \"\").strip()\n",
        "\n",
        "            if cell_text and len(cell_text) > 9:  # Ensure row has enough data\n",
        "                cell_text[9] = cell_text[9].replace(\"[d]\", \"\").replace(\"[c]\", \"\").strip()\n",
        "\n",
        "            if cell_text:  # Ignore empty rows\n",
        "                data.append(cell_text)\n",
        "\n",
        "        # Convert the data to a DataFrame\n",
        "        df = pd.DataFrame(data[1:], columns=data[0])  # Use the first row as headers\n",
        "\n",
        "        # Remove \"Qualification or relegation\" column if it exists\n",
        "        if \"Qualification or relegation\" in df.columns:\n",
        "            df.drop(columns=[\"Qualification or relegation\"], inplace=True)\n",
        "\n",
        "        # Convert numeric columns to integers where possible\n",
        "        for col in df.columns:\n",
        "            df[col] = pd.to_numeric(df[col], errors=\"ignore\", downcast=\"integer\")\n",
        "\n",
        "        # Extract the season year from the page\n",
        "        season = soup.find(\"h1\", id=\"firstHeading\").get_text(strip=True).split(' ', 1)[0]\n",
        "        print(f\"Scraped data for {season}.\")\n",
        "        #print(df)\n",
        "\n",
        "        return df, season\n",
        "    else:\n",
        "        print(f\"No league table found on {url}.\")\n",
        "        return None, None\n",
        "\n",
        "# Scrape all seasons from 1992–93 to 2023-24\n",
        "for year in range(start_year, end_year):\n",
        "    if year < 2000:\n",
        "        # Format for seasons before 2000–01\n",
        "        season_url = f\"{base_url}{year}%E2%80%93{str(year + 1)[-2:]}_FA_Premier_League\"\n",
        "    else:\n",
        "        # Format for seasons starting from 2000–01\n",
        "        season_url = f\"{base_url}{year}%E2%80%93{str(year + 1)[-2:]}_Premier_League\"\n",
        "\n",
        "    print(f\"Scraping {season_url}...\")\n",
        "\n",
        "    # Scrape the league table for the current season\n",
        "    table_data, season = scrape_league_table(season_url)\n",
        "    table_data['GD'] = table_data['GD'].replace({'−': '-'}, regex=True).astype(int)\n",
        "\n",
        "    if table_data is not None:\n",
        "        all_seasons_data.append({\"Season\": season, \"Table\": table_data})\n",
        "\n",
        "\n",
        "\n",
        "print(\"Scraping completed.\")\n"
      ]
    },
    {
      "cell_type": "markdown",
      "source": [
        "## Saving season's data into csv files"
      ],
      "metadata": {
        "id": "vDmsSxLgg-kG"
      }
    },
    {
      "cell_type": "code",
      "source": [
        "# Example season input\n",
        "for season_data in all_seasons_data:\n",
        "  season = season_data[\"Season\"]\n",
        "  table = season_data[\"Table\"]\n",
        "\n",
        "  print(f\"Original season string: {season}\")  # Debug the original season string\n",
        "\n",
        "  # Normalize the dash to a regular hyphen\n",
        "  normalized_season = season.replace(\"–\", \"-\").replace(\"—\", \"-\")  # Replace en dash or em dash with a hyphen\n",
        "\n",
        "  # Match and transform the season format\n",
        "  match = re.match(r\"^(\\d{4})-(\\d{2})$\", normalized_season)\n",
        "  if match:\n",
        "      start_year = match.group(1)\n",
        "      end_year_suffix = match.group(2)\n",
        "      end_year = f\"{start_year[:2]}{end_year_suffix}\"\n",
        "      formatted_season = f\"{start_year}_{end_year}\"\n",
        "  else:\n",
        "      print(\"Regex did not match. Falling back to replacements.\")  # Debug fallback\n",
        "      formatted_season = normalized_season.replace('/', '_').replace(':', '-').replace('-', '_')\n",
        "\n",
        "  # Save the file\n",
        "  file_name = f\"Table_{formatted_season}.csv\"\n",
        "  print(f\"Formatted season: {formatted_season}\")  # Debug formatted season\n",
        "  table.to_csv(file_name, index=False)\n",
        "  print(f\"Saved data for {season} to {file_name}.\")\n"
      ],
      "metadata": {
        "colab": {
          "base_uri": "https://localhost:8080/"
        },
        "id": "_RxRRAu_kIyD",
        "outputId": "0d79ab2b-98ac-42e3-fc3b-58449651e09e"
      },
      "execution_count": 39,
      "outputs": [
        {
          "output_type": "stream",
          "name": "stdout",
          "text": [
            "Original season string: 1992–93\n",
            "Formatted season: 1992_1993\n",
            "Saved data for 1992–93 to Table_1992_1993.csv.\n",
            "Original season string: 1993–94\n",
            "Formatted season: 1993_1994\n",
            "Saved data for 1993–94 to Table_1993_1994.csv.\n",
            "Original season string: 1994–95\n",
            "Formatted season: 1994_1995\n",
            "Saved data for 1994–95 to Table_1994_1995.csv.\n",
            "Original season string: 1995–96\n",
            "Formatted season: 1995_1996\n",
            "Saved data for 1995–96 to Table_1995_1996.csv.\n",
            "Original season string: 1996–97\n",
            "Formatted season: 1996_1997\n",
            "Saved data for 1996–97 to Table_1996_1997.csv.\n",
            "Original season string: 1997–98\n",
            "Formatted season: 1997_1998\n",
            "Saved data for 1997–98 to Table_1997_1998.csv.\n",
            "Original season string: 1998–99\n",
            "Formatted season: 1998_1999\n",
            "Saved data for 1998–99 to Table_1998_1999.csv.\n",
            "Original season string: 1999–2000\n",
            "Regex did not match. Falling back to replacements.\n",
            "Formatted season: 1999_2000\n",
            "Saved data for 1999–2000 to Table_1999_2000.csv.\n",
            "Original season string: 2000–01\n",
            "Formatted season: 2000_2001\n",
            "Saved data for 2000–01 to Table_2000_2001.csv.\n",
            "Original season string: 2001–02\n",
            "Formatted season: 2001_2002\n",
            "Saved data for 2001–02 to Table_2001_2002.csv.\n",
            "Original season string: 2002–03\n",
            "Formatted season: 2002_2003\n",
            "Saved data for 2002–03 to Table_2002_2003.csv.\n",
            "Original season string: 2003–04\n",
            "Formatted season: 2003_2004\n",
            "Saved data for 2003–04 to Table_2003_2004.csv.\n",
            "Original season string: 2004–05\n",
            "Formatted season: 2004_2005\n",
            "Saved data for 2004–05 to Table_2004_2005.csv.\n",
            "Original season string: 2005–06\n",
            "Formatted season: 2005_2006\n",
            "Saved data for 2005–06 to Table_2005_2006.csv.\n",
            "Original season string: 2006–07\n",
            "Formatted season: 2006_2007\n",
            "Saved data for 2006–07 to Table_2006_2007.csv.\n",
            "Original season string: 2007–08\n",
            "Formatted season: 2007_2008\n",
            "Saved data for 2007–08 to Table_2007_2008.csv.\n",
            "Original season string: 2008–09\n",
            "Formatted season: 2008_2009\n",
            "Saved data for 2008–09 to Table_2008_2009.csv.\n",
            "Original season string: 2009–10\n",
            "Formatted season: 2009_2010\n",
            "Saved data for 2009–10 to Table_2009_2010.csv.\n",
            "Original season string: 2010–11\n",
            "Formatted season: 2010_2011\n",
            "Saved data for 2010–11 to Table_2010_2011.csv.\n",
            "Original season string: 2011–12\n",
            "Formatted season: 2011_2012\n",
            "Saved data for 2011–12 to Table_2011_2012.csv.\n",
            "Original season string: 2012–13\n",
            "Formatted season: 2012_2013\n",
            "Saved data for 2012–13 to Table_2012_2013.csv.\n",
            "Original season string: 2013–14\n",
            "Formatted season: 2013_2014\n",
            "Saved data for 2013–14 to Table_2013_2014.csv.\n",
            "Original season string: 2014–15\n",
            "Formatted season: 2014_2015\n",
            "Saved data for 2014–15 to Table_2014_2015.csv.\n",
            "Original season string: 2015–16\n",
            "Formatted season: 2015_2016\n",
            "Saved data for 2015–16 to Table_2015_2016.csv.\n",
            "Original season string: 2016–17\n",
            "Formatted season: 2016_2017\n",
            "Saved data for 2016–17 to Table_2016_2017.csv.\n",
            "Original season string: 2017–18\n",
            "Formatted season: 2017_2018\n",
            "Saved data for 2017–18 to Table_2017_2018.csv.\n",
            "Original season string: 2018–19\n",
            "Formatted season: 2018_2019\n",
            "Saved data for 2018–19 to Table_2018_2019.csv.\n",
            "Original season string: 2019–20\n",
            "Formatted season: 2019_2020\n",
            "Saved data for 2019–20 to Table_2019_2020.csv.\n",
            "Original season string: 2020–21\n",
            "Formatted season: 2020_2021\n",
            "Saved data for 2020–21 to Table_2020_2021.csv.\n",
            "Original season string: 2021–22\n",
            "Formatted season: 2021_2022\n",
            "Saved data for 2021–22 to Table_2021_2022.csv.\n",
            "Original season string: 2022–23\n",
            "Formatted season: 2022_2023\n",
            "Saved data for 2022–23 to Table_2022_2023.csv.\n",
            "Original season string: 2023–24\n",
            "Formatted season: 2023_2024\n",
            "Saved data for 2023–24 to Table_2023_2024.csv.\n"
          ]
        }
      ]
    },
    {
      "cell_type": "markdown",
      "source": [
        "## Several Statistics"
      ],
      "metadata": {
        "id": "XCZMpRPwtBXD"
      }
    },
    {
      "cell_type": "code",
      "source": [
        "import pandas as pd\n",
        "from collections import defaultdict\n",
        "\n",
        "# Initialize dictionaries to store aggregated stats\n",
        "total_wins = defaultdict(int)\n",
        "total_goals = defaultdict(int)\n",
        "total_losses = defaultdict(int)\n",
        "\n",
        "# Aggregate data from all seasons\n",
        "for season_data in all_seasons_data:\n",
        "    table = season_data[\"Table\"]\n",
        "\n",
        "    # Ensure columns are normalized\n",
        "    if \"Team\" not in table.columns:\n",
        "        print(f\"Missing 'Team' column in season: {season_data['Season']}\")\n",
        "        continue  # Skip this season if 'team' column is missing\n",
        "\n",
        "    for _, row in table.iterrows():\n",
        "        team = row[\"Team\"]\n",
        "        total_wins[team] += row[\"W\"]  # Number of wins\n",
        "        total_goals[team] += row[\"GF\"]  # Goals For\n",
        "        total_losses[team] += row[\"L\"]  # Number of losses\n",
        "\n",
        "# Convert to sorted lists of tuples (team, value) in descending order\n",
        "top_10_wins = sorted(total_wins.items(), key=lambda x: x[1], reverse=True)[:10]\n",
        "top_10_goals = sorted(total_goals.items(), key=lambda x: x[1], reverse=True)[:10]\n",
        "top_10_losses = sorted(total_losses.items(), key=lambda x: x[1], reverse=True)[:10]\n",
        "\n",
        "# Convert to DataFrames for easier display and analysis\n",
        "df_top_10_wins = pd.DataFrame(top_10_wins, columns=[\"Team\", \"Total Wins\"])\n",
        "df_top_10_goals = pd.DataFrame(top_10_goals, columns=[\"Team\", \"Total Goals\"])\n",
        "df_top_10_losses = pd.DataFrame(top_10_losses, columns=[\"Team\", \"Total Losses\"])\n",
        "\n",
        "# Display the results\n",
        "print(\"Top 10 Teams by Wins:\")\n",
        "print(df_top_10_wins)\n",
        "\n",
        "print(\"\\nTop 10 Teams by Goals:\")\n",
        "print(df_top_10_goals)\n",
        "\n",
        "print(\"\\nTop 10 Teams by Losses:\")\n",
        "print(df_top_10_losses)\n"
      ],
      "metadata": {
        "colab": {
          "base_uri": "https://localhost:8080/"
        },
        "id": "bAuQpZbxtDbj",
        "outputId": "8c394418-405d-4c01-f655-a8afe586b103"
      },
      "execution_count": 75,
      "outputs": [
        {
          "output_type": "stream",
          "name": "stdout",
          "text": [
            "Top 10 Teams by Wins:\n",
            "                Team  Total Wins\n",
            "0  Manchester United         745\n",
            "1            Arsenal         673\n",
            "2          Liverpool         652\n",
            "3            Chelsea         647\n",
            "4  Tottenham Hotspur         540\n",
            "5    Manchester City         529\n",
            "6            Everton         439\n",
            "7   Newcastle United         419\n",
            "8        Aston Villa         392\n",
            "9    West Ham United         360\n",
            "\n",
            "Top 10 Teams by Goals:\n",
            "                Team  Total Goals\n",
            "0  Manchester United         2300\n",
            "1            Arsenal         2196\n",
            "2          Liverpool         2182\n",
            "3            Chelsea         2088\n",
            "4  Tottenham Hotspur         1889\n",
            "5    Manchester City         1848\n",
            "6            Everton         1565\n",
            "7   Newcastle United         1530\n",
            "8        Aston Villa         1392\n",
            "9    West Ham United         1337\n",
            "\n",
            "Top 10 Teams by Losses:\n",
            "                Team  Total Losses\n",
            "0            Everton           448\n",
            "1    West Ham United           442\n",
            "2        Aston Villa           411\n",
            "3   Newcastle United           407\n",
            "4        Southampton           396\n",
            "5  Tottenham Hotspur           395\n",
            "6         Sunderland           296\n",
            "7    Manchester City           287\n",
            "8             Fulham           287\n",
            "9            Chelsea           277\n"
          ]
        }
      ]
    }
  ]
}